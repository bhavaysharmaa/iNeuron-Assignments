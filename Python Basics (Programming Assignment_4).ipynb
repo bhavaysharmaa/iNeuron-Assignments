{
 "cells": [
  {
   "cell_type": "code",
   "execution_count": 1,
   "id": "be118511",
   "metadata": {},
   "outputs": [],
   "source": [
    "# 1.\tWrite a Python Program to Find the Factorial of a Number?"
   ]
  },
  {
   "cell_type": "code",
   "execution_count": 13,
   "id": "e37feb3f",
   "metadata": {},
   "outputs": [
    {
     "name": "stdout",
     "output_type": "stream",
     "text": [
      "Enter a positive integer: 10\n",
      "Factorial of 10 is 3628800\n"
     ]
    }
   ],
   "source": [
    "try:\n",
    "    n = input('Enter a positive integer: ')\n",
    "    n = int(n)\n",
    "\n",
    "    org = n\n",
    "\n",
    "    def fact(n):\n",
    "        if (n < 0):\n",
    "            return \"Factorial can be calculated for positive integers only.\"\n",
    "        elif (n == 0):\n",
    "            return f\"Factorial of {n} is 1\"\n",
    "        else:\n",
    "            result = 1\n",
    "        \n",
    "            while(n != 0):\n",
    "                result = result * n\n",
    "                n = n - 1\n",
    "        \n",
    "            return f\"Factorial of {org} is {result}\"\n",
    "\n",
    "    print(fact(n))\n",
    "except:\n",
    "    print(\"Factorial can be calclated for positive integers only.\")"
   ]
  },
  {
   "cell_type": "code",
   "execution_count": 14,
   "id": "c80f85f2",
   "metadata": {},
   "outputs": [],
   "source": [
    "#2.\tWrite a Python Program to Display the multiplication Table?"
   ]
  },
  {
   "cell_type": "code",
   "execution_count": 21,
   "id": "ea9e8caf",
   "metadata": {},
   "outputs": [
    {
     "name": "stdout",
     "output_type": "stream",
     "text": [
      "Enter a number whoes multiplication table needs to be displayed: 9\n",
      "Enter a number till which the multiplcation table needs to be displayed: 10\n",
      "9 x 1 = 9\n",
      "9 x 2 = 18\n",
      "9 x 3 = 27\n",
      "9 x 4 = 36\n",
      "9 x 5 = 45\n",
      "9 x 6 = 54\n",
      "9 x 7 = 63\n",
      "9 x 8 = 72\n",
      "9 x 9 = 81\n",
      "9 x 10 = 90\n"
     ]
    }
   ],
   "source": [
    "try:\n",
    "    n = input('Enter a number whoes multiplication table needs to be displayed: ')\n",
    "    m = input('Enter a number till which the multiplcation table needs to be displayed: ')\n",
    "    n = int(n)\n",
    "    m = int(m)\n",
    "    \n",
    "    for i in range(1, m + 1):\n",
    "        print(f'{n} x {i} = {i * n}')\n",
    "        \n",
    "except:\n",
    "    print('Check the inputs you have entered.')"
   ]
  },
  {
   "cell_type": "code",
   "execution_count": 22,
   "id": "e0e98175",
   "metadata": {},
   "outputs": [],
   "source": [
    "#3.\tWrite a Python Program to Print the Fibonacci sequence?"
   ]
  },
  {
   "cell_type": "code",
   "execution_count": 38,
   "id": "066d5490",
   "metadata": {},
   "outputs": [
    {
     "name": "stdout",
     "output_type": "stream",
     "text": [
      "Enter a number till which the fibonnaci series needs to be calculated: 10\n",
      "0\n",
      "1\n",
      "1\n",
      "2\n",
      "3\n",
      "5\n",
      "8\n",
      "13\n",
      "21\n",
      "34\n"
     ]
    }
   ],
   "source": [
    "try:\n",
    "    n = input(\"Enter a number till which the fibonnaci series needs to be calculated: \")\n",
    "    n = int(n)\n",
    "    def fib(n):\n",
    "        a = 0\n",
    "        b = 1\n",
    "        if n == 1:\n",
    "            print(a)\n",
    "        elif n == 2:\n",
    "            print(a)\n",
    "            print(b)\n",
    "        elif n > 2:\n",
    "            print(a)\n",
    "            print(b)\n",
    "            for i in range(3, n + 1):\n",
    "                c = a + b\n",
    "                print(c)\n",
    "                a = b\n",
    "                b = c\n",
    "    \n",
    "    fib(n)\n",
    "    \n",
    "except:\n",
    "    print(\"check the input you have entered.\")"
   ]
  },
  {
   "cell_type": "code",
   "execution_count": 39,
   "id": "a91f3bbb",
   "metadata": {},
   "outputs": [],
   "source": [
    "#4.\tWrite a Python Program to Check Armstrong Number?"
   ]
  },
  {
   "cell_type": "code",
   "execution_count": 33,
   "id": "20ed62cb",
   "metadata": {},
   "outputs": [
    {
     "name": "stdout",
     "output_type": "stream",
     "text": [
      "Enter a number: 153\n",
      "Number entered is an armstrong number.\n"
     ]
    }
   ],
   "source": [
    "n = int(input(\"Enter a number: \"))\n",
    "\n",
    "def ifarmstrong(n):\n",
    "    count = 0\n",
    "    org = n\n",
    "    N = n\n",
    "    while(org != 0):\n",
    "        temp = org / 10\n",
    "        org = int(temp)\n",
    "        count = count + 1\n",
    "    \n",
    "    result = 0\n",
    "    while(n != 0):\n",
    "        temp = n % 10\n",
    "        n = int(n / 10)\n",
    "        \n",
    "        result = result + pow(temp, count)\n",
    "        \n",
    "    if(N == result):\n",
    "        print('Number entered is an armstrong number.')\n",
    "    else:\n",
    "        print('Number entered is not an armstrong number.')\n",
    "    \n",
    "ifarmstrong(n)"
   ]
  },
  {
   "cell_type": "code",
   "execution_count": 34,
   "id": "7f815c22",
   "metadata": {},
   "outputs": [],
   "source": [
    "#5.\tWrite a Python Program to Find Armstrong Number in an Interval?"
   ]
  },
  {
   "cell_type": "code",
   "execution_count": 38,
   "id": "b6684e70",
   "metadata": {},
   "outputs": [
    {
     "name": "stdout",
     "output_type": "stream",
     "text": [
      "Enter lower interval: 0\n",
      "Enter upper interval: 2000\n",
      "0\n",
      "1\n",
      "2\n",
      "3\n",
      "4\n",
      "5\n",
      "6\n",
      "7\n",
      "8\n",
      "9\n",
      "153\n",
      "370\n",
      "371\n",
      "407\n",
      "1634\n"
     ]
    }
   ],
   "source": [
    "lower = int(input(\"Enter lower interval: \"))\n",
    "upper = int(input(\"Enter upper interval: \"))\n",
    "\n",
    "for i in range(lower, upper + 1):\n",
    "    \n",
    "    n = i\n",
    "\n",
    "    def ifarmstrong(n):\n",
    "        count = 0\n",
    "        org = n\n",
    "        N = n\n",
    "        while(org != 0):\n",
    "            temp = org / 10\n",
    "            org = int(temp)\n",
    "            count = count + 1\n",
    "    \n",
    "        result = 0\n",
    "        while(n != 0):\n",
    "            temp = n % 10\n",
    "            n = int(n / 10)\n",
    "        \n",
    "            result = result + pow(temp, count)\n",
    "        \n",
    "        if(N == result):\n",
    "            print(N)\n",
    "    \n",
    "    ifarmstrong(n)"
   ]
  },
  {
   "cell_type": "code",
   "execution_count": 39,
   "id": "89b920af",
   "metadata": {},
   "outputs": [],
   "source": [
    "#6.\tWrite a Python Program to Find the Sum of Natural Numbers?"
   ]
  },
  {
   "cell_type": "code",
   "execution_count": 41,
   "id": "7a9168e3",
   "metadata": {},
   "outputs": [
    {
     "name": "stdout",
     "output_type": "stream",
     "text": [
      "Enter a number till which you want to find the sum of natural numbers: 45\n",
      "Sum of natural numbers till 45 is: 1035\n"
     ]
    }
   ],
   "source": [
    "n = int(input(\"Enter a number till which you want to find the sum of natural numbers: \"))\n",
    "result = int(((n)*(n + 1)) / 2)\n",
    "print(f\"Sum of natural numbers till {n} is: {result}\")"
   ]
  },
  {
   "cell_type": "code",
   "execution_count": null,
   "id": "caf256a7",
   "metadata": {},
   "outputs": [],
   "source": []
  }
 ],
 "metadata": {
  "kernelspec": {
   "display_name": "Python 3 (ipykernel)",
   "language": "python",
   "name": "python3"
  },
  "language_info": {
   "codemirror_mode": {
    "name": "ipython",
    "version": 3
   },
   "file_extension": ".py",
   "mimetype": "text/x-python",
   "name": "python",
   "nbconvert_exporter": "python",
   "pygments_lexer": "ipython3",
   "version": "3.9.12"
  }
 },
 "nbformat": 4,
 "nbformat_minor": 5
}
