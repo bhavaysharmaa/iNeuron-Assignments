{
 "cells": [
  {
   "cell_type": "code",
   "execution_count": 1,
   "id": "253cfed7",
   "metadata": {},
   "outputs": [],
   "source": [
    "#1. Write a Python program to convert kilometers to miles?"
   ]
  },
  {
   "cell_type": "code",
   "execution_count": 8,
   "id": "61a913e2",
   "metadata": {},
   "outputs": [
    {
     "name": "stdout",
     "output_type": "stream",
     "text": [
      "Enter Kilometers 161.1\n",
      "161.1 Kilometers is 100.0431 miles\n"
     ]
    }
   ],
   "source": [
    "def ktm(km):\n",
    "    \n",
    "    \"\"\"Converts kilometer to miles\"\"\"\n",
    "    \n",
    "    return km * 0.621\n",
    "\n",
    "k = input('Enter Kilometers ')\n",
    "\n",
    "k = float(k)\n",
    "\n",
    "print(str(k) + \" Kilometers is \" + str(ktm(k)) + \" miles\")"
   ]
  },
  {
   "cell_type": "code",
   "execution_count": 9,
   "id": "5856546f",
   "metadata": {},
   "outputs": [],
   "source": [
    "#2. Write a Python program to convert Celsius to Fahrenheit?"
   ]
  },
  {
   "cell_type": "code",
   "execution_count": 13,
   "id": "f662e09c",
   "metadata": {},
   "outputs": [
    {
     "name": "stdout",
     "output_type": "stream",
     "text": [
      "Enter the Temperature in Celsius: 100\n",
      "100.0 degree celsius is 212.0 degree fahrenheit \n"
     ]
    }
   ],
   "source": [
    "def ctf(cl):\n",
    "    \n",
    "    \"\"\"Converts celcius to fahrenheit\"\"\"\n",
    "    \n",
    "    return (cl * (9 / 5)) + 32\n",
    "\n",
    "c = input('Enter the Temperature in Celsius: ')\n",
    "\n",
    "c = float(c)\n",
    "\n",
    "print(str(c) + \" degree celsius is \" + str(ctf(c)) + \" degree fahrenheit \")"
   ]
  },
  {
   "cell_type": "code",
   "execution_count": 14,
   "id": "c7f0d826",
   "metadata": {},
   "outputs": [],
   "source": [
    "#3. Write a Python program to display calendar?"
   ]
  },
  {
   "cell_type": "code",
   "execution_count": 6,
   "id": "67c8ad6c",
   "metadata": {},
   "outputs": [
    {
     "name": "stdout",
     "output_type": "stream",
     "text": [
      "Enter year in number: 1999\n",
      "Enter month in number: 1\n",
      "\n",
      "    January 1999\n",
      "Mo Tu We Th Fr Sa Su\n",
      "             1  2  3\n",
      " 4  5  6  7  8  9 10\n",
      "11 12 13 14 15 16 17\n",
      "18 19 20 21 22 23 24\n",
      "25 26 27 28 29 30 31\n",
      "\n"
     ]
    }
   ],
   "source": [
    "def cal(month, year):\n",
    "    \n",
    "    \"\"\"Returns calendar of the given month and year\"\"\"\n",
    "    \n",
    "    import calendar\n",
    "    \n",
    "    return calendar.month(year, month)\n",
    "\n",
    "y = int(input(\"Enter year in number: \"))\n",
    "m = int(input(\"Enter month in number: \"))\n",
    "\n",
    "print('')\n",
    "\n",
    "print(cal(m,y))"
   ]
  },
  {
   "cell_type": "code",
   "execution_count": 7,
   "id": "8daba730",
   "metadata": {},
   "outputs": [],
   "source": [
    "#4. Write a Python program to solve quadratic equation?"
   ]
  },
  {
   "cell_type": "code",
   "execution_count": 21,
   "id": "69d90e0c",
   "metadata": {},
   "outputs": [
    {
     "name": "stdout",
     "output_type": "stream",
     "text": [
      "Enter coefficient of x^2 (a): 1\n",
      "Enter coefficient of x (b): -2\n",
      "Enter constant (c): -15\n",
      "The equation has two distinct real roots: \n",
      "(5.0, -3.0)\n"
     ]
    }
   ],
   "source": [
    "def disc(a, b, c):\n",
    "    \n",
    "    \"\"\"Return discriminant of a quadratic equation\"\"\"\n",
    "    \n",
    "    return (b**2) - (4 * a * c)\n",
    "\n",
    "def qdr(a, b, c):\n",
    "    \n",
    "    \"\"\"Return roots of a quadratic equation\"\"\"\n",
    "    \n",
    "    if(disc(a, b, c) == 0):\n",
    "        print(\"The equation has one real root: \")\n",
    "        return ((-b + (disc(a, b, c) ** 0.5)) / (2*a))\n",
    "    \n",
    "    else:\n",
    "        if(disc(a, b, c) > 0):\n",
    "            print(\"The equation has two distinct real roots: \")\n",
    "            return ((-b + (disc(a, b, c) ** 0.5)) / (2*a)), ((-b - (disc(a, b, c) ** 0.5)) / (2*a))\n",
    "        \n",
    "        else:\n",
    "            print(\"The equation has two distinct imaginary roots: \")\n",
    "            return ((-b + (disc(a, b, c) ** 0.5)) / (2*a)), ((-b - (disc(a, b, c) ** 0.5)) / (2*a))\n",
    "\n",
    "a = int(input(\"Enter coefficient of x^2 (a): \"))\n",
    "b = int(input(\"Enter coefficient of x (b): \"))\n",
    "c = int(input(\"Enter constant (c): \"))\n",
    "\n",
    "roots = qdr(a, b, c)\n",
    "\n",
    "print(roots)"
   ]
  },
  {
   "cell_type": "code",
   "execution_count": 22,
   "id": "055ee20e",
   "metadata": {},
   "outputs": [],
   "source": [
    "#5. Write a Python program to swap two variables without temp variable?"
   ]
  },
  {
   "cell_type": "code",
   "execution_count": 5,
   "id": "eb8dae9b",
   "metadata": {},
   "outputs": [
    {
     "name": "stdout",
     "output_type": "stream",
     "text": [
      "Variables are swapped successfully!!\n",
      "[20, 10]\n"
     ]
    }
   ],
   "source": [
    "def swap(a, b):\n",
    "    a = a + b\n",
    "    b = a - b\n",
    "    a = a - b\n",
    "    print(\"Variables are swapped successfully!!\")\n",
    "    return [a,b]\n",
    "\n",
    "print(swap(10,20))"
   ]
  }
 ],
 "metadata": {
  "kernelspec": {
   "display_name": "Python 3 (ipykernel)",
   "language": "python",
   "name": "python3"
  },
  "language_info": {
   "codemirror_mode": {
    "name": "ipython",
    "version": 3
   },
   "file_extension": ".py",
   "mimetype": "text/x-python",
   "name": "python",
   "nbconvert_exporter": "python",
   "pygments_lexer": "ipython3",
   "version": "3.9.12"
  }
 },
 "nbformat": 4,
 "nbformat_minor": 5
}
