{
 "cells": [
  {
   "cell_type": "code",
   "execution_count": 1,
   "id": "ebe0786b",
   "metadata": {},
   "outputs": [],
   "source": [
    "#1. Write a Python program to print \"Hello Python\"?"
   ]
  },
  {
   "cell_type": "code",
   "execution_count": 2,
   "id": "49f3c9ce",
   "metadata": {},
   "outputs": [
    {
     "name": "stdout",
     "output_type": "stream",
     "text": [
      "Hello Python\n"
     ]
    }
   ],
   "source": [
    "print(\"Hello Python\")"
   ]
  },
  {
   "cell_type": "code",
   "execution_count": 3,
   "id": "2b3873f7",
   "metadata": {},
   "outputs": [],
   "source": [
    "#2. Write a Python program to do arithmetical operations addition and division.?"
   ]
  },
  {
   "cell_type": "code",
   "execution_count": 19,
   "id": "fdc4ede5",
   "metadata": {},
   "outputs": [
    {
     "data": {
      "text/plain": [
       "(1065, 0.4)"
      ]
     },
     "execution_count": 19,
     "metadata": {},
     "output_type": "execute_result"
    }
   ],
   "source": [
    "def arth(*args):\n",
    "    \n",
    "    \"\"\"Returns Addition and Division of numbers given in the order.\"\"\"\n",
    "    \n",
    "    sum = 0\n",
    "    div = args[0]\n",
    "    for i in args:\n",
    "        sum +=i\n",
    "    for i in range(1, len(args)):\n",
    "        div = div / args[i]\n",
    "    return sum, div\n",
    "\n",
    "arth(1000, 5, 10, 50)"
   ]
  },
  {
   "cell_type": "code",
   "execution_count": 5,
   "id": "92fff0a8",
   "metadata": {},
   "outputs": [],
   "source": [
    "#3. Write a Python program to find the area of a triangle?"
   ]
  },
  {
   "cell_type": "code",
   "execution_count": 10,
   "id": "ab02fa84",
   "metadata": {},
   "outputs": [
    {
     "name": "stdout",
     "output_type": "stream",
     "text": [
      "Area of which type of triangle you want to find(Equilateral/Isoceles/Scalene)? Scalene\n",
      "Enter first side of the triangle: 3\n",
      "Enter second side of the triangle: 4\n",
      "Enter third side of the triangle: 5\n",
      "Area of Scalene Triangle is: \n",
      "6.0\n"
     ]
    }
   ],
   "source": [
    "ans = input(\"Area of which type of triangle you want to find(Equilateral/Isoceles/Scalene)? \")\n",
    "\n",
    "def eq(a):\n",
    "    \"\"\"Return area of equilateral triangle using its side.\"\"\"\n",
    "    return (((3)**0.5)/4)*a*a\n",
    "\n",
    "def iso(a,b):\n",
    "    \"\"\"Return area of isoceles triangle using its sides.\"\"\"\n",
    "    return (b/2)*((a*a) - ((b*b) / 4))**0.5\n",
    "\n",
    "def sca(a,b,c):\n",
    "    \"\"\"Return area of scalene triangle using its sides.\"\"\"\n",
    "    s = (a + b + c) / 2\n",
    "    ar = (s*(s-a)*(s-b)*(s-c))**0.5\n",
    "    return ar\n",
    "\n",
    "if ans == 'Equilateral':\n",
    "    \n",
    "    a = int(input(\"Enter the length of the side of the triangle: \"))\n",
    "    print(\"Area of Equilateral Triangle is: \")\n",
    "    print(eq(a))\n",
    "    \n",
    "elif ans == 'Isoceles':\n",
    "    a = int(input(\"Enter the length of the side of the triangle which are equal: \"))\n",
    "    b = int(input(\"Enter the length of the base of the triangle: \"))\n",
    "    \n",
    "    print(\"Area of Isoceles Triangle is: \")\n",
    "    print(iso(a,b))\n",
    "    \n",
    "elif ans == 'Scalene':\n",
    "    a= int(input(\"Enter first side of the triangle: \"))\n",
    "    b= int(input(\"Enter second side of the triangle: \"))\n",
    "    c= int(input(\"Enter third side of the triangle: \"))\n",
    "    \n",
    "    print(\"Area of Scalene Triangle is: \")\n",
    "    print(sca(a,b,c))\n",
    "    \n",
    "else:\n",
    "    print(\"Entered Value is not correct.\")\n",
    "    "
   ]
  },
  {
   "cell_type": "code",
   "execution_count": 12,
   "id": "4bc25e84",
   "metadata": {},
   "outputs": [],
   "source": [
    "#4. Write a Python program to swap two variables?"
   ]
  },
  {
   "cell_type": "code",
   "execution_count": 4,
   "id": "69b1f441",
   "metadata": {},
   "outputs": [
    {
     "name": "stdout",
     "output_type": "stream",
     "text": [
      "Enter first number: 23\n",
      "Enter second number: 56\n",
      "Variables swapped successfully \n",
      "a = 56\n",
      "b = 23\n"
     ]
    }
   ],
   "source": [
    "def swap(a,b):\n",
    "    \n",
    "    \"\"\"Swap the data in the variables given and return them.\"\"\"\n",
    "    \n",
    "    c = -1\n",
    "    c = b\n",
    "    b = a\n",
    "    a = c\n",
    "    \n",
    "    return(a,b)\n",
    "\n",
    "a = input(\"Enter first number: \")\n",
    "b = input(\"Enter second number: \")\n",
    "\n",
    "t = swap(a,b)\n",
    "\n",
    "a = t[0]\n",
    "b = t[1]\n",
    "\n",
    "print(\"Variables swapped successfully \")\n",
    "print(\"a = \" + str(a))\n",
    "print(\"b = \" + str(b))"
   ]
  },
  {
   "cell_type": "code",
   "execution_count": 3,
   "id": "17e02a31",
   "metadata": {},
   "outputs": [],
   "source": [
    "#5. Write a Python program to generate a random number?"
   ]
  },
  {
   "cell_type": "code",
   "execution_count": 7,
   "id": "d41f3ca1",
   "metadata": {},
   "outputs": [
    {
     "name": "stdout",
     "output_type": "stream",
     "text": [
      "Enter first number of the range: 110\n",
      "Enter second number of the range: 445\n",
      "Your random number is: 247\n"
     ]
    }
   ],
   "source": [
    "import random\n",
    "\n",
    "a = input(\"Enter first number of the range: \")\n",
    "b = input(\"Enter second number of the range: \")\n",
    "\n",
    "ans = random.randint(int(a),int(b))\n",
    "\n",
    "print(\"Your random number is: \" + str(ans))"
   ]
  }
 ],
 "metadata": {
  "kernelspec": {
   "display_name": "Python 3 (ipykernel)",
   "language": "python",
   "name": "python3"
  },
  "language_info": {
   "codemirror_mode": {
    "name": "ipython",
    "version": 3
   },
   "file_extension": ".py",
   "mimetype": "text/x-python",
   "name": "python",
   "nbconvert_exporter": "python",
   "pygments_lexer": "ipython3",
   "version": "3.9.12"
  }
 },
 "nbformat": 4,
 "nbformat_minor": 5
}
